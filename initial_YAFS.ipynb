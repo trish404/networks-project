{
  "nbformat": 4,
  "nbformat_minor": 0,
  "metadata": {
    "colab": {
      "provenance": []
    },
    "kernelspec": {
      "name": "python3",
      "display_name": "Python 3"
    },
    "language_info": {
      "name": "python"
    }
  },
  "cells": [
    {
      "cell_type": "code",
      "source": [
        "!git clone https://github.com/acsicuib/YAFS.git"
      ],
      "metadata": {
        "colab": {
          "base_uri": "https://localhost:8080/"
        },
        "id": "HVb_11FcIZsv",
        "outputId": "b6310968-1c46-4f5a-e7b0-c327f1b82818"
      },
      "execution_count": 1,
      "outputs": [
        {
          "output_type": "stream",
          "name": "stdout",
          "text": [
            "Cloning into 'YAFS'...\n",
            "remote: Enumerating objects: 3556, done.\u001b[K\n",
            "remote: Counting objects: 100% (551/551), done.\u001b[K\n",
            "remote: Compressing objects: 100% (134/134), done.\u001b[K\n",
            "remote: Total 3556 (delta 425), reused 417 (delta 417), pack-reused 3005 (from 1)\u001b[K\n",
            "Receiving objects: 100% (3556/3556), 104.90 MiB | 10.39 MiB/s, done.\n",
            "Resolving deltas: 100% (1881/1881), done.\n",
            "Updating files: 100% (2391/2391), done.\n"
          ]
        }
      ]
    },
    {
      "cell_type": "code",
      "source": [
        "%cd YAFS\n",
        "!pip install ."
      ],
      "metadata": {
        "colab": {
          "base_uri": "https://localhost:8080/"
        },
        "id": "4b9pzBnDIlX6",
        "outputId": "63647cf4-4b21-4713-e149-7522dbfde356"
      },
      "execution_count": 2,
      "outputs": [
        {
          "output_type": "stream",
          "name": "stdout",
          "text": [
            "/content/YAFS\n",
            "Processing /content/YAFS\n",
            "  Preparing metadata (setup.py) ... \u001b[?25l\u001b[?25hdone\n",
            "Collecting simpy (from yafs==0.3.0)\n",
            "  Downloading simpy-4.1.1-py3-none-any.whl.metadata (6.1 kB)\n",
            "Requirement already satisfied: pandas in /usr/local/lib/python3.10/dist-packages (from yafs==0.3.0) (2.2.2)\n",
            "Requirement already satisfied: networkx in /usr/local/lib/python3.10/dist-packages (from yafs==0.3.0) (3.4.2)\n",
            "Requirement already satisfied: numpy in /usr/local/lib/python3.10/dist-packages (from yafs==0.3.0) (1.26.4)\n",
            "Requirement already satisfied: tqdm in /usr/local/lib/python3.10/dist-packages (from yafs==0.3.0) (4.66.6)\n",
            "Requirement already satisfied: python-dateutil>=2.8.2 in /usr/local/lib/python3.10/dist-packages (from pandas->yafs==0.3.0) (2.8.2)\n",
            "Requirement already satisfied: pytz>=2020.1 in /usr/local/lib/python3.10/dist-packages (from pandas->yafs==0.3.0) (2024.2)\n",
            "Requirement already satisfied: tzdata>=2022.7 in /usr/local/lib/python3.10/dist-packages (from pandas->yafs==0.3.0) (2024.2)\n",
            "Requirement already satisfied: six>=1.5 in /usr/local/lib/python3.10/dist-packages (from python-dateutil>=2.8.2->pandas->yafs==0.3.0) (1.16.0)\n",
            "Downloading simpy-4.1.1-py3-none-any.whl (27 kB)\n",
            "Building wheels for collected packages: yafs\n",
            "  Building wheel for yafs (setup.py) ... \u001b[?25l\u001b[?25hdone\n",
            "  Created wheel for yafs: filename=yafs-0.3.0-py2.py3-none-any.whl size=32539 sha256=ad97639723ea8f82a6b389724360d8e0ca6ec08c3b734cd5966e54a99378b045\n",
            "  Stored in directory: /tmp/pip-ephem-wheel-cache-pb9mt0s8/wheels/e9/d0/5c/197bbba407a3c39bbd2b144f18df5066abc456673b4c5b0659\n",
            "Successfully built yafs\n",
            "Installing collected packages: simpy, yafs\n",
            "Successfully installed simpy-4.1.1 yafs-0.3.0\n"
          ]
        }
      ]
    },
    {
      "cell_type": "code",
      "source": [
        "import yafs"
      ],
      "metadata": {
        "id": "G9bIbK2mIoaK"
      },
      "execution_count": 3,
      "outputs": []
    },
    {
      "cell_type": "code",
      "source": [
        "import yafs.selection\n",
        "\n",
        "# List all attributes in the placement module\n",
        "print(dir(yafs.selection))"
      ],
      "metadata": {
        "colab": {
          "base_uri": "https://localhost:8080/"
        },
        "id": "1g376v2ZI-26",
        "outputId": "ba6e9be7-754c-42fa-aa71-cdb8d8a04d3a"
      },
      "execution_count": 8,
      "outputs": [
        {
          "output_type": "stream",
          "name": "stdout",
          "text": [
            "['First_ShortestPath', 'OneRandomPath', 'Selection', '__builtins__', '__cached__', '__doc__', '__file__', '__loader__', '__name__', '__package__', '__spec__', 'logging', 'nx', 'random']\n"
          ]
        }
      ]
    },
    {
      "cell_type": "code",
      "source": [
        "from yafs.core import Sim\n",
        "from yafs.topology import Topology\n",
        "from yafs.application import Application, Message\n",
        "from yafs.placement import EdgePlacement\n",
        "from yafs.selection import First_ShortestPath\n",
        "from yafs.distribution import deterministic_distribution"
      ],
      "metadata": {
        "id": "MY81fBzXIrtP"
      },
      "execution_count": 9,
      "outputs": []
    },
    {
      "cell_type": "code",
      "source": [
        "import networkx as nx\n",
        "from yafs.topology import Topology\n",
        "\n",
        "# Initialize the topology and create a directed graph\n",
        "topology = Topology()\n",
        "topology.G = nx.DiGraph()  # Use a directed graph\n",
        "\n",
        "# Add Cloud node (one centralized node)\n",
        "cloud_id = \"Cloud\"\n",
        "topology.G.add_node(cloud_id, RAM=10000, IPT=1000)  # IPT: Instructions per time unit\n",
        "\n",
        "# Add Fog nodes (three in this example) and link them to the Cloud\n",
        "fog_ids = []\n",
        "for i in range(3):\n",
        "    fog_id = f\"Fog_{i}\"\n",
        "    topology.G.add_node(fog_id, RAM=4000, IPT=500)\n",
        "    topology.G.add_edge(fog_id, cloud_id, BW=1000, PR=10)  # Link fog to cloud\n",
        "    fog_ids.append(fog_id)\n",
        "\n",
        "print(\"Cloud and fog nodes added to the topology.\")\n"
      ],
      "metadata": {
        "colab": {
          "base_uri": "https://localhost:8080/"
        },
        "id": "L6trqXF-JlL0",
        "outputId": "7f65ae67-5823-4da9-a71b-1191c0a2bad4"
      },
      "execution_count": 17,
      "outputs": [
        {
          "output_type": "stream",
          "name": "stdout",
          "text": [
            "Cloud and fog nodes added to the topology.\n"
          ]
        }
      ]
    },
    {
      "cell_type": "code",
      "source": [
        "# Add End Devices (IoT sensors) and connect them to the Fog nodes\n",
        "device_types = [\"HeartRateSensor\", \"TemperatureSensor\", \"PulseOximeter\", \"ECGSensor\", \"Laptop\", \"Camera\"]\n",
        "device_ids = []\n",
        "for i, device in enumerate(device_types):\n",
        "    device_id = f\"{device}_{i}\"\n",
        "    topology.G.add_node(device_id, RAM=500, IPT=50)\n",
        "    topology.G.add_edge(device_id, fog_ids[i % 3], BW=100, PR=20)  # Link device to one of the fog nodes\n",
        "    device_ids.append(device_id)\n",
        "\n",
        "print(\"End devices added to the topology.\")\n"
      ],
      "metadata": {
        "colab": {
          "base_uri": "https://localhost:8080/"
        },
        "id": "o4E0vbttJ-3S",
        "outputId": "a84fdf98-add0-4830-ccbe-69c872329654"
      },
      "execution_count": 18,
      "outputs": [
        {
          "output_type": "stream",
          "name": "stdout",
          "text": [
            "End devices added to the topology.\n"
          ]
        }
      ]
    },
    {
      "cell_type": "code",
      "source": [
        "# Define Messages (data flow)\n",
        "# Message from devices to fog nodes\n",
        "msg_device_to_fog = Message(\"DeviceToFog\", \"DATA\", fog_ids)\n",
        "\n",
        "# Message from fog nodes to the cloud\n",
        "msg_fog_to_cloud = Message(\"FogToCloud\", \"DATA\", [cloud_id])\n",
        "\n",
        "print(\"Application and messages defined.\")\n"
      ],
      "metadata": {
        "colab": {
          "base_uri": "https://localhost:8080/"
        },
        "id": "8S0RYu0JK1dW",
        "outputId": "68504a8c-1907-4d1e-ef32-ae9e966bbc49"
      },
      "execution_count": 21,
      "outputs": [
        {
          "output_type": "stream",
          "name": "stdout",
          "text": [
            "Application and messages defined.\n"
          ]
        }
      ]
    },
    {
      "cell_type": "code",
      "source": [
        "from yafs.application import Application\n",
        "\n",
        "# Define the application structure as a dictionary\n",
        "app_config = {\n",
        "    \"name\": \"IoT_App\",\n",
        "    \"modules\": [\n",
        "        {\"id\": \"DeviceModule\", \"type\": Application.TYPE_SOURCE, \"RAM\": 500},\n",
        "        {\"id\": \"FogModule\", \"type\": Application.TYPE_MODULE, \"RAM\": 2000},\n",
        "        {\"id\": \"CloudModule\", \"type\": Application.TYPE_SINK, \"RAM\": 10000}\n",
        "    ],\n",
        "    \"messages\": [\n",
        "        {\"id\": \"msg_device_to_fog\", \"s_module\": \"DeviceModule\", \"d_module\": \"FogModule\", \"instructions\": 1000, \"bytes\": 500},\n",
        "        {\"id\": \"msg_fog_to_cloud\", \"s_module\": \"FogModule\", \"d_module\": \"CloudModule\", \"instructions\": 5000, \"bytes\": 1500}\n",
        "    ],\n",
        "    \"services\": [\n",
        "        {\"id\": \"service_processing\", \"module\": \"FogModule\", \"type\": Application.TYPE_MODULE, \"RAM\": 2000}\n",
        "    ]\n",
        "}\n",
        "\n",
        "# Initialize the Application with the configuration\n",
        "application = Application(app_config)\n",
        "\n",
        "print(\"Application defined with modules, messages, and services.\")\n"
      ],
      "metadata": {
        "colab": {
          "base_uri": "https://localhost:8080/"
        },
        "id": "w3JwQ1I3LJA0",
        "outputId": "5402b14e-b0cf-4eb8-95e3-dbe9f43394c8"
      },
      "execution_count": 31,
      "outputs": [
        {
          "output_type": "stream",
          "name": "stdout",
          "text": [
            "Application defined with modules, messages, and services.\n"
          ]
        }
      ]
    },
    {
      "cell_type": "code",
      "source": [
        "from yafs.placement import EdgePlacement\n",
        "from yafs.selection import First_ShortestPath\n",
        "\n",
        "# Define Placement and Selection Policies\n",
        "placement = EdgePlacement(name=\"EdgePlacement\")\n",
        "selection = First_ShortestPath()\n",
        "\n",
        "print(\"Placement and selection policies defined.\")\n"
      ],
      "metadata": {
        "colab": {
          "base_uri": "https://localhost:8080/"
        },
        "id": "S1ebwPR1LiuE",
        "outputId": "1ef62302-780c-4d2c-fb83-c61d44f08321"
      },
      "execution_count": 32,
      "outputs": [
        {
          "output_type": "stream",
          "name": "stdout",
          "text": [
            "Placement and selection policies defined.\n"
          ]
        }
      ]
    },
    {
      "cell_type": "code",
      "source": [
        "from yafs.core import Sim\n",
        "\n",
        "# Initialize the simulation with the topology\n",
        "sim = Sim(topology)\n",
        "\n",
        "# Deploy the application with the placement and selection policies\n",
        "sim.deploy_app(application, placement, selection)  # Pass arguments positionally\n",
        "\n",
        "# Run the simulation\n",
        "sim.run(stop_time=1000)  # Run for 1000 time units\n",
        "\n",
        "print(\"Simulation completed.\")\n"
      ],
      "metadata": {
        "colab": {
          "base_uri": "https://localhost:8080/",
          "height": 341
        },
        "id": "JqEzQsR4LlpA",
        "outputId": "3037046c-2652-4503-8135-a1c56b99ff02"
      },
      "execution_count": 33,
      "outputs": [
        {
          "output_type": "error",
          "ename": "TypeError",
          "evalue": "unhashable type: 'dict'",
          "traceback": [
            "\u001b[0;31m---------------------------------------------------------------------------\u001b[0m",
            "\u001b[0;31mTypeError\u001b[0m                                 Traceback (most recent call last)",
            "\u001b[0;32m<ipython-input-33-d12272c0bf28>\u001b[0m in \u001b[0;36m<cell line: 7>\u001b[0;34m()\u001b[0m\n\u001b[1;32m      5\u001b[0m \u001b[0;34m\u001b[0m\u001b[0m\n\u001b[1;32m      6\u001b[0m \u001b[0;31m# Deploy the application with the placement and selection policies\u001b[0m\u001b[0;34m\u001b[0m\u001b[0;34m\u001b[0m\u001b[0m\n\u001b[0;32m----> 7\u001b[0;31m \u001b[0msim\u001b[0m\u001b[0;34m.\u001b[0m\u001b[0mdeploy_app\u001b[0m\u001b[0;34m(\u001b[0m\u001b[0mapplication\u001b[0m\u001b[0;34m,\u001b[0m \u001b[0mplacement\u001b[0m\u001b[0;34m,\u001b[0m \u001b[0mselection\u001b[0m\u001b[0;34m)\u001b[0m  \u001b[0;31m# Pass arguments positionally\u001b[0m\u001b[0;34m\u001b[0m\u001b[0;34m\u001b[0m\u001b[0m\n\u001b[0m\u001b[1;32m      8\u001b[0m \u001b[0;34m\u001b[0m\u001b[0m\n\u001b[1;32m      9\u001b[0m \u001b[0;31m# Run the simulation\u001b[0m\u001b[0;34m\u001b[0m\u001b[0;34m\u001b[0m\u001b[0m\n",
            "\u001b[0;32m/usr/local/lib/python3.10/dist-packages/yafs/core.py\u001b[0m in \u001b[0;36mdeploy_app\u001b[0;34m(self, app, placement, selector)\u001b[0m\n\u001b[1;32m    904\u001b[0m         \"\"\"\n\u001b[1;32m    905\u001b[0m         \u001b[0;31m# Application\u001b[0m\u001b[0;34m\u001b[0m\u001b[0;34m\u001b[0m\u001b[0m\n\u001b[0;32m--> 906\u001b[0;31m         \u001b[0mself\u001b[0m\u001b[0;34m.\u001b[0m\u001b[0mapps\u001b[0m\u001b[0;34m[\u001b[0m\u001b[0mapp\u001b[0m\u001b[0;34m.\u001b[0m\u001b[0mname\u001b[0m\u001b[0;34m]\u001b[0m \u001b[0;34m=\u001b[0m \u001b[0mapp\u001b[0m\u001b[0;34m\u001b[0m\u001b[0;34m\u001b[0m\u001b[0m\n\u001b[0m\u001b[1;32m    907\u001b[0m \u001b[0;34m\u001b[0m\u001b[0m\n\u001b[1;32m    908\u001b[0m         \u001b[0;31m# Initialization\u001b[0m\u001b[0;34m\u001b[0m\u001b[0;34m\u001b[0m\u001b[0m\n",
            "\u001b[0;31mTypeError\u001b[0m: unhashable type: 'dict'"
          ]
        }
      ]
    },
    {
      "cell_type": "code",
      "source": [
        "# Initialize the topology and create a directed graph\n",
        "topology = Topology()\n",
        "topology.G = nx.DiGraph()  # Directed graph\n",
        "\n",
        "# Add Cloud node\n",
        "cloud_id = \"Cloud\"\n",
        "topology.G.add_node(cloud_id, RAM=10000, IPT=1000)\n",
        "\n",
        "# Add Fog nodes and link to Cloud\n",
        "fog_ids = []\n",
        "for i in range(3):\n",
        "    fog_id = f\"Fog_{i}\"\n",
        "    topology.G.add_node(fog_id, RAM=4000, IPT=500)\n",
        "    topology.G.add_edge(fog_id, cloud_id, BW=1000, PR=10)\n",
        "    fog_ids.append(fog_id)\n",
        "\n",
        "# Add IoT devices and link to Fog nodes\n",
        "device_ids = []\n",
        "for i in range(6):\n",
        "    device_id = f\"Device_{i}\"\n",
        "    topology.G.add_node(device_id, RAM=500, IPT=50)\n",
        "    topology.G.add_edge(device_id, fog_ids[i % len(fog_ids)], BW=100, PR=20)\n",
        "    device_ids.append(device_id)\n",
        "\n",
        "print(\"Topology defined with cloud, fog nodes, and devices.\")\n"
      ],
      "metadata": {
        "colab": {
          "base_uri": "https://localhost:8080/"
        },
        "id": "beJw8PGqM7Zn",
        "outputId": "b371e4cb-f148-42e8-e127-d8f8fb735d66"
      },
      "execution_count": 34,
      "outputs": [
        {
          "output_type": "stream",
          "name": "stdout",
          "text": [
            "Topology defined with cloud, fog nodes, and devices.\n"
          ]
        }
      ]
    },
    {
      "cell_type": "code",
      "source": [
        "from yafs.application import Application\n",
        "\n",
        "# Create a basic application with a simple name\n",
        "application = Application(name=\"MinimalApp\")\n",
        "\n",
        "# Assuming no complex module/message setup required for this example\n",
        "print(\"Application initialized as 'MinimalApp'.\")\n"
      ],
      "metadata": {
        "colab": {
          "base_uri": "https://localhost:8080/"
        },
        "id": "WEfBopkyM90f",
        "outputId": "df146c6d-9e05-48ea-c09e-abe64aad2d16"
      },
      "execution_count": 35,
      "outputs": [
        {
          "output_type": "stream",
          "name": "stdout",
          "text": [
            "Application initialized as 'MinimalApp'.\n"
          ]
        }
      ]
    },
    {
      "cell_type": "code",
      "source": [
        "# Set up placement and selection policies\n",
        "placement = EdgePlacement(name=\"EdgePlacement\")\n",
        "selection = First_ShortestPath()\n",
        "\n",
        "print(\"Placement and selection policies defined.\")\n"
      ],
      "metadata": {
        "colab": {
          "base_uri": "https://localhost:8080/"
        },
        "id": "0ByHXtgeNC6s",
        "outputId": "c9a3b799-3f09-41a1-bfbe-3187ac4f2bcb"
      },
      "execution_count": 36,
      "outputs": [
        {
          "output_type": "stream",
          "name": "stdout",
          "text": [
            "Placement and selection policies defined.\n"
          ]
        }
      ]
    },
    {
      "cell_type": "code",
      "source": [
        "# Initialize the simulation\n",
        "sim = Sim(topology)\n",
        "\n",
        "# Deploy the application\n",
        "sim.deploy_app(application, placement, selection)\n",
        "\n",
        "# Run the simulation for a basic time period (100 time units)\n",
        "sim.run(100)\n",
        "\n",
        "print(\"Minimal simulation completed.\")\n"
      ],
      "metadata": {
        "colab": {
          "base_uri": "https://localhost:8080/"
        },
        "id": "PvFVjkuyNF1C",
        "outputId": "8b6a1426-2d76-4a66-9830-3bd6fa80c737"
      },
      "execution_count": 38,
      "outputs": [
        {
          "output_type": "stream",
          "name": "stdout",
          "text": [
            "----------------------------------------\n",
            "DES\t| TOPO \t| Src.Mod \t| Modules\n",
            "----------------------------------------\n",
            "----------------------------------------\n",
            "Minimal simulation completed.\n"
          ]
        }
      ]
    }
  ]
}